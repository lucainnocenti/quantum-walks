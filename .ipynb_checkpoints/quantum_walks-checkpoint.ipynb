{
 "cells": [
  {
   "cell_type": "code",
   "execution_count": 3,
   "metadata": {
    "collapsed": true
   },
   "outputs": [],
   "source": [
    "import numpy as np\n",
    "import qutip"
   ]
  },
  {
   "cell_type": "code",
   "execution_count": 124,
   "metadata": {
    "collapsed": false
   },
   "outputs": [
    {
     "data": {
      "text/plain": [
       "True"
      ]
     },
     "execution_count": 124,
     "metadata": {},
     "output_type": "execute_result"
    }
   ],
   "source": [
    "type(theta) == np.ndarray"
   ]
  },
  {
   "cell_type": "code",
   "execution_count": 125,
   "metadata": {
    "collapsed": false
   },
   "outputs": [
    {
     "name": "stdout",
     "output_type": "stream",
     "text": [
      "[[-0.31215724  0.48806222]\n",
      " [-0.50229471  0.06126619]]\n"
     ]
    },
    {
     "data": {
      "text/plain": [
       "array([[ 0.71140269+0.43550761j],\n",
       "       [ 0.00000000+0.j        ],\n",
       "       [-0.14785557+0.j        ],\n",
       "       [ 0.40467706+0.21484371j],\n",
       "       [ 0.00000000+0.j        ],\n",
       "       [ 0.26867283-0.01648119j]])"
      ]
     },
     "execution_count": 125,
     "metadata": {},
     "output_type": "execute_result"
    }
   ],
   "source": [
    "def coin_op(theta, xi):\n",
    "    if type(theta) == np.ndarray:\n",
    "        theta = theta[0]\n",
    "    if type(xi) == np.ndarray:\n",
    "        xi = xi[0]\n",
    "    matrix = np.zeros((2, 2), dtype=np.complex128)\n",
    "    matrix[0, 0] = np.cos(theta) * np.exp(1.j * xi)\n",
    "    matrix[0, 1] = np.sin(theta)\n",
    "    matrix[1, 0] = -np.sin(theta)\n",
    "    matrix[1, 1] = np.cos(theta) * np.exp(-1.j * xi)\n",
    "    return qutip.Qobj(matrix)\n",
    "\n",
    "\n",
    "def step_op(n_steps, theta, xi):\n",
    "    space_dims = n_steps + 1\n",
    "    shift_left = qutip.qeye(space_dims)\n",
    "\n",
    "    shift_right = np.zeros((space_dims, space_dims))\n",
    "    for idx in range(len(shift_right) - 1):\n",
    "        shift_right[idx + 1, idx] = 1.\n",
    "    shift_right = qutip.Qobj(shift_right)\n",
    "    \n",
    "    proj_uu = qutip.Qobj([[1., 0.], [0., 0.]])\n",
    "    proj_dd = qutip.Qobj([[0., 0.], [0., 1.]])\n",
    "\n",
    "    c_shift = (qutip.tensor(shift_left, proj_uu) + \n",
    "               qutip.tensor(shift_right, proj_dd))\n",
    "    \n",
    "    big_coin_op = qutip.tensor(\n",
    "        qutip.qeye(space_dims),\n",
    "        coin_op(theta, xi)\n",
    "    )\n",
    "\n",
    "    return c_shift * big_coin_op\n",
    "\n",
    "\n",
    "def many_steps_evolution(n_steps, parameters):\n",
    "    dims = n_steps + 1\n",
    "    parameters = np.asarray(parameters)\n",
    "    evolution = step_op(n_steps, *parameters[0])\n",
    "    for par in parameters[1:]:\n",
    "        evolution = step_op(n_steps, *par) * evolution\n",
    "    return evolution\n",
    "\n",
    "\n",
    "def reachable_state(amps):\n",
    "    if isinstance(amps, qutip.Qobj):\n",
    "        amps = amps.data.toarray()\n",
    "    amps = np.asarray(amps).reshape((amps.shape[0]))\n",
    "    if not amps.shape[0] % 2 == 0:\n",
    "        raise ValueError('The number of elements in `amps` must be even.')\n",
    "    v1 = amps[0] / amps[3]\n",
    "    v2 = amps[-1] / amps[-4]\n",
    "    reachable_condition = v1 + np.conj(v2)\n",
    "    return np.allclose(reachable_condition, [0.])\n",
    "\n",
    "params = np.random.randn(2, 2)\n",
    "print(params)\n",
    "evol = many_steps_evolution(2, params)\n",
    "evol[:, 0]"
   ]
  },
  {
   "cell_type": "code",
   "execution_count": 168,
   "metadata": {
    "collapsed": false
   },
   "outputs": [
    {
     "name": "stdout",
     "output_type": "stream",
     "text": [
      "[ 0.50229471] [-3.08032646]\n"
     ]
    },
    {
     "data": {
      "text/latex": [
       "Quantum object: dims = [[3, 2], [1, 1]], shape = [6, 1], type = ket\\begin{equation*}\\left(\\begin{array}{*{11}c}1.000\\\\0.0\\\\0.0\\\\0.0\\\\0.0\\\\0.0\\\\\\end{array}\\right)\\end{equation*}"
      ],
      "text/plain": [
       "Quantum object: dims = [[3, 2], [1, 1]], shape = [6, 1], type = ket\n",
       "Qobj data =\n",
       "[[ 1.]\n",
       " [ 0.]\n",
       " [ 0.]\n",
       " [ 0.]\n",
       " [ 0.]\n",
       " [ 0.]]"
      ]
     },
     "execution_count": 168,
     "metadata": {},
     "output_type": "execute_result"
    }
   ],
   "source": [
    "psi = evol * qutip.tensor(qutip.basis(3, 0), qutip.basis(2, 0))\n",
    "amps = psi.data.toarray()\n",
    "\n",
    "theta = np.arctan(np.abs(amps[3] / amps[0]))\n",
    "xi = -np.angle(-amps[3] / amps[0])\n",
    "print(theta, xi)\n",
    "\n",
    "prev_psi = step_op(2, theta, xi).dag() * psi\n",
    "prev_amps = prev_psi.data.toarray()\n",
    "\n",
    "thetap = - np.arcsin(prev_amps[3, 0])\n",
    "xip = np.angle(prev_amps[0, 0])\n",
    "\n",
    "step_op(2, thetap, xip).dag() * prev_psi"
   ]
  },
  {
   "cell_type": "code",
   "execution_count": 172,
   "metadata": {
    "collapsed": false
   },
   "outputs": [
    {
     "data": {
      "text/latex": [
       "Quantum object: dims = [[3, 2], [1, 1]], shape = [6, 1], type = ket\\begin{equation*}\\left(\\begin{array}{*{11}c}(0.711+0.436j)\\\\0.0\\\\-0.148\\\\(0.405+0.215j)\\\\0.0\\\\(0.269-0.016j)\\\\\\end{array}\\right)\\end{equation*}"
      ],
      "text/plain": [
       "Quantum object: dims = [[3, 2], [1, 1]], shape = [6, 1], type = ket\n",
       "Qobj data =\n",
       "[[ 0.71140269+0.43550761j]\n",
       " [ 0.00000000+0.j        ]\n",
       " [-0.14785557+0.j        ]\n",
       " [ 0.40467706+0.21484371j]\n",
       " [ 0.00000000+0.j        ]\n",
       " [ 0.26867283-0.01648119j]]"
      ]
     },
     "execution_count": 172,
     "metadata": {},
     "output_type": "execute_result"
    }
   ],
   "source": [
    "params = np.array([[thetap, xip], [theta, xi]])\n",
    "many_steps_evolution(2, params) * initial_state"
   ]
  },
  {
   "cell_type": "code",
   "execution_count": 173,
   "metadata": {
    "collapsed": false
   },
   "outputs": [
    {
     "data": {
      "text/latex": [
       "Quantum object: dims = [[3, 2], [1, 1]], shape = [6, 1], type = ket\\begin{equation*}\\left(\\begin{array}{*{11}c}(0.711+0.436j)\\\\0.0\\\\-0.148\\\\(0.405+0.215j)\\\\0.0\\\\(0.269-0.016j)\\\\\\end{array}\\right)\\end{equation*}"
      ],
      "text/plain": [
       "Quantum object: dims = [[3, 2], [1, 1]], shape = [6, 1], type = ket\n",
       "Qobj data =\n",
       "[[ 0.71140269+0.43550761j]\n",
       " [ 0.00000000+0.j        ]\n",
       " [-0.14785557+0.j        ]\n",
       " [ 0.40467706+0.21484371j]\n",
       " [ 0.00000000+0.j        ]\n",
       " [ 0.26867283-0.01648119j]]"
      ]
     },
     "execution_count": 173,
     "metadata": {},
     "output_type": "execute_result"
    }
   ],
   "source": [
    "psi"
   ]
  }
 ],
 "metadata": {
  "anaconda-cloud": {},
  "kernelspec": {
   "display_name": "Python 3",
   "language": "python",
   "name": "python3"
  },
  "language_info": {
   "codemirror_mode": {
    "name": "ipython",
    "version": 3
   },
   "file_extension": ".py",
   "mimetype": "text/x-python",
   "name": "python",
   "nbconvert_exporter": "python",
   "pygments_lexer": "ipython3",
   "version": "3.5.2"
  }
 },
 "nbformat": 4,
 "nbformat_minor": 1
}
