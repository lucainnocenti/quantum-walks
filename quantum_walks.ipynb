{
 "cells": [
  {
   "cell_type": "code",
   "execution_count": 49,
   "metadata": {
    "collapsed": false
   },
   "outputs": [
    {
     "name": "stdout",
     "output_type": "stream",
     "text": [
      "The autoreload extension is already loaded. To reload it, use:\n",
      "  %reload_ext autoreload\n"
     ]
    }
   ],
   "source": [
    "%load_ext autoreload\n",
    "%autoreload 2\n",
    "%matplotlib notebook\n",
    "\n",
    "from IPython.display import display\n",
    "import numpy as np\n",
    "import qutip\n",
    "import quantum_walks"
   ]
  },
  {
   "cell_type": "code",
   "execution_count": 168,
   "metadata": {
    "collapsed": false
   },
   "outputs": [
    {
     "name": "stdout",
     "output_type": "stream",
     "text": [
      "[ 0.50229471] [-3.08032646]\n"
     ]
    },
    {
     "data": {
      "text/latex": [
       "Quantum object: dims = [[3, 2], [1, 1]], shape = [6, 1], type = ket\\begin{equation*}\\left(\\begin{array}{*{11}c}1.000\\\\0.0\\\\0.0\\\\0.0\\\\0.0\\\\0.0\\\\\\end{array}\\right)\\end{equation*}"
      ],
      "text/plain": [
       "Quantum object: dims = [[3, 2], [1, 1]], shape = [6, 1], type = ket\n",
       "Qobj data =\n",
       "[[ 1.]\n",
       " [ 0.]\n",
       " [ 0.]\n",
       " [ 0.]\n",
       " [ 0.]\n",
       " [ 0.]]"
      ]
     },
     "execution_count": 168,
     "metadata": {},
     "output_type": "execute_result"
    }
   ],
   "source": [
    "psi = evol * qutip.tensor(qutip.basis(3, 0), qutip.basis(2, 0))\n",
    "amps = psi.data.toarray()\n",
    "\n",
    "theta = np.arctan(np.abs(amps[3] / amps[0]))\n",
    "xi = -np.angle(-amps[3] / amps[0])\n",
    "print(theta, xi)\n",
    "\n",
    "prev_psi = step_op(2, theta, xi).dag() * psi\n",
    "prev_amps = prev_psi.data.toarray()\n",
    "\n",
    "thetap = - np.arcsin(prev_amps[3, 0])\n",
    "xip = np.angle(prev_amps[0, 0])\n",
    "\n",
    "step_op(2, thetap, xip).dag() * prev_psi"
   ]
  },
  {
   "cell_type": "code",
   "execution_count": 172,
   "metadata": {
    "collapsed": false
   },
   "outputs": [
    {
     "data": {
      "text/latex": [
       "Quantum object: dims = [[3, 2], [1, 1]], shape = [6, 1], type = ket\\begin{equation*}\\left(\\begin{array}{*{11}c}(0.711+0.436j)\\\\0.0\\\\-0.148\\\\(0.405+0.215j)\\\\0.0\\\\(0.269-0.016j)\\\\\\end{array}\\right)\\end{equation*}"
      ],
      "text/plain": [
       "Quantum object: dims = [[3, 2], [1, 1]], shape = [6, 1], type = ket\n",
       "Qobj data =\n",
       "[[ 0.71140269+0.43550761j]\n",
       " [ 0.00000000+0.j        ]\n",
       " [-0.14785557+0.j        ]\n",
       " [ 0.40467706+0.21484371j]\n",
       " [ 0.00000000+0.j        ]\n",
       " [ 0.26867283-0.01648119j]]"
      ]
     },
     "execution_count": 172,
     "metadata": {},
     "output_type": "execute_result"
    }
   ],
   "source": [
    "params = np.array([[thetap, xip], [theta, xi]])\n",
    "many_steps_evolution(2, params) * initial_state"
   ]
  },
  {
   "cell_type": "code",
   "execution_count": 173,
   "metadata": {
    "collapsed": false
   },
   "outputs": [
    {
     "data": {
      "text/latex": [
       "Quantum object: dims = [[3, 2], [1, 1]], shape = [6, 1], type = ket\\begin{equation*}\\left(\\begin{array}{*{11}c}(0.711+0.436j)\\\\0.0\\\\-0.148\\\\(0.405+0.215j)\\\\0.0\\\\(0.269-0.016j)\\\\\\end{array}\\right)\\end{equation*}"
      ],
      "text/plain": [
       "Quantum object: dims = [[3, 2], [1, 1]], shape = [6, 1], type = ket\n",
       "Qobj data =\n",
       "[[ 0.71140269+0.43550761j]\n",
       " [ 0.00000000+0.j        ]\n",
       " [-0.14785557+0.j        ]\n",
       " [ 0.40467706+0.21484371j]\n",
       " [ 0.00000000+0.j        ]\n",
       " [ 0.26867283-0.01648119j]]"
      ]
     },
     "execution_count": 173,
     "metadata": {},
     "output_type": "execute_result"
    }
   ],
   "source": [
    "qutip.rand_ket()"
   ]
  },
  {
   "cell_type": "code",
   "execution_count": 90,
   "metadata": {
    "collapsed": false
   },
   "outputs": [
    {
     "data": {
      "text/latex": [
       "Quantum object: dims = [[3], [1]], shape = [3, 1], type = ket\\begin{equation*}\\left(\\begin{array}{*{11}c}(-0.698-0.545j)\\\\(-0.118+0.341j)\\\\(-0.280+0.086j)\\\\\\end{array}\\right)\\end{equation*}"
      ],
      "text/plain": [
       "Quantum object: dims = [[3], [1]], shape = [3, 1], type = ket\n",
       "Qobj data =\n",
       "[[-0.69795697-0.5451885j ]\n",
       " [-0.11782963+0.3409902j ]\n",
       " [-0.27954771+0.08556001j]]"
      ]
     },
     "metadata": {},
     "output_type": "display_data"
    },
    {
     "data": {
      "text/latex": [
       "Quantum object: dims = [[3, 2], [1, 1]], shape = [6, 1], type = ket\\begin{equation*}\\left(\\begin{array}{*{11}c}(-0.714-0.557j)\\\\0.0\\\\(0.010+0.094j)\\\\(-0.131+0.255j)\\\\0.0\\\\(-0.286+0.087j)\\\\\\end{array}\\right)\\end{equation*}"
      ],
      "text/plain": [
       "Quantum object: dims = [[3, 2], [1, 1]], shape = [6, 1], type = ket\n",
       "Qobj data =\n",
       "[[-0.71355255-0.55737053j]\n",
       " [ 0.00000000+0.j        ]\n",
       " [ 0.01016759+0.09393257j]\n",
       " [-0.13063008+0.25467693j]\n",
       " [ 0.00000000+0.j        ]\n",
       " [-0.28579409+0.08747182j]]"
      ]
     },
     "execution_count": 90,
     "metadata": {},
     "output_type": "execute_result"
    }
   ],
   "source": [
    "target = qutip.rand_ket(3)\n",
    "display(target)\n",
    "u1 = target[0, 0]\n",
    "u2 = target[1, 0]\n",
    "u3 = target[2, 0]\n",
    "a = u1 / u3.conj()\n",
    "b = - u1 * u2.conj() / u3.conj()\n",
    "c = (1 + a.real) * b.real + a.imag * b.imag\n",
    "c += 1j * (a.imag * b.real + (1 - a.real) * b.imag)\n",
    "c /= 1 - a.real ** 2 - a.imag ** 2\n",
    "\n",
    "ket = np.asarray([u1, 0, u2 - c, c, 0, u3]).reshape(6, 1)\n",
    "ket = qutip.Qobj(ket, dims=[[3, 2], [1, 1]]).unit()\n",
    "ket\n",
    "\n",
    "# amps = ket.data.toarray()\n",
    "# amps[0] / amps[3], (amps[5] / amps[2]).conj()"
   ]
  },
  {
   "cell_type": "code",
   "execution_count": 108,
   "metadata": {
    "collapsed": false
   },
   "outputs": [
    {
     "data": {
      "text/latex": [
       "Quantum object: dims = [[3, 2], [1, 1]], shape = [6, 1], type = ket\\begin{equation*}\\left(\\begin{array}{*{11}c}(0.631-0.649j)\\\\0.0\\\\-0.094\\\\(-0.056+0.294j)\\\\0.0\\\\(-0.239+0.157j)\\\\\\end{array}\\right)\\end{equation*}"
      ],
      "text/plain": [
       "Quantum object: dims = [[3, 2], [1, 1]], shape = [6, 1], type = ket\n",
       "Qobj data =\n",
       "[[ 0.63092259-0.64942732j]\n",
       " [ 0.00000000+0.j        ]\n",
       " [-0.09448126+0.j        ]\n",
       " [-0.05620813+0.29354766j]\n",
       " [ 0.00000000+0.j        ]\n",
       " [-0.23914018+0.15727851j]]"
      ]
     },
     "execution_count": 108,
     "metadata": {},
     "output_type": "execute_result"
    }
   ],
   "source": [
    "pars1 = quantum_walks.compute_parameters(ket)\n",
    "ket1 = quantum_walks.devolve_1step(ket, *pars1)\n",
    "pars2 = quantum_walks.compute_parameters(ket1)\n",
    "ket2 = quantum_walks.devolve_1step(ketp, *pars2)\n",
    "\n",
    "U = quantum_walks.many_steps_evolution(2, [pars1, pars2])\n",
    "\n",
    "ket0 = qutip.basis(6, 0)\n",
    "ket0.dims = [[3, 2], [1, 1]]\n",
    "\n",
    "U * ket0"
   ]
  },
  {
   "cell_type": "code",
   "execution_count": 61,
   "metadata": {
    "collapsed": false
   },
   "outputs": [
    {
     "data": {
      "text/plain": [
       "dtype('complex128')"
      ]
     },
     "execution_count": 61,
     "metadata": {},
     "output_type": "execute_result"
    }
   ],
   "source": [
    "amps = ket.data.toarray()\n",
    "amps.dtype"
   ]
  }
 ],
 "metadata": {
  "anaconda-cloud": {},
  "kernelspec": {
   "display_name": "Python [default]",
   "language": "python",
   "name": "python3"
  },
  "language_info": {
   "codemirror_mode": {
    "name": "ipython",
    "version": 3
   },
   "file_extension": ".py",
   "mimetype": "text/x-python",
   "name": "python",
   "nbconvert_exporter": "python",
   "pygments_lexer": "ipython3",
   "version": "3.5.2"
  }
 },
 "nbformat": 4,
 "nbformat_minor": 1
}
